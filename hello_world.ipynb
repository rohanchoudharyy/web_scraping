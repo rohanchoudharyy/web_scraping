{
 "cells": [
  {
   "cell_type": "code",
   "execution_count": 10,
   "metadata": {},
   "outputs": [
    {
     "name": "stdout",
     "output_type": "stream",
     "text": [
      "hello\n"
     ]
    }
   ],
   "source": [
    "str = 'hello'\n",
    "print(str)"
   ]
  },
  {
   "cell_type": "code",
   "execution_count": 12,
   "metadata": {},
   "outputs": [
    {
     "name": "stdout",
     "output_type": "stream",
     "text": [
      "hello rohan\n"
     ]
    }
   ],
   "source": [
    "print (str + ' ' + 'rohan')"
   ]
  },
  {
   "cell_type": "code",
   "execution_count": 27,
   "metadata": {},
   "outputs": [
    {
     "name": "stdout",
     "output_type": "stream",
     "text": [
      "['jon', 'snow', 500, True]\n",
      "<class 'list'>\n",
      "lenght of the list is 4\n"
     ]
    }
   ],
   "source": [
    "my_list=['jon','snow',500,True]\n",
    "print(my_list)\n",
    "print(type(my_list))\n",
    "print(\"lenght of the list is\", my_list.__len__())\n",
    "\n"
   ]
  },
  {
   "cell_type": "code",
   "execution_count": 32,
   "metadata": {},
   "outputs": [
    {
     "name": "stdout",
     "output_type": "stream",
     "text": [
      "jon.\n",
      "sansa.\n",
      "arya.\n",
      "bran.\n"
     ]
    }
   ],
   "source": [
    "list=['jon','sansa','arya','bran']\n",
    "for i in list:\n",
    "    print(i+'.')"
   ]
  }
 ],
 "metadata": {
  "kernelspec": {
   "display_name": "Python 3",
   "language": "python",
   "name": "python3"
  },
  "language_info": {
   "codemirror_mode": {
    "name": "ipython",
    "version": 3
   },
   "file_extension": ".py",
   "mimetype": "text/x-python",
   "name": "python",
   "nbconvert_exporter": "python",
   "pygments_lexer": "ipython3",
   "version": "3.7.4"
  }
 },
 "nbformat": 4,
 "nbformat_minor": 2
}
